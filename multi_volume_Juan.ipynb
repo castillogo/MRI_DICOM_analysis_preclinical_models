{
 "cells": [
  {
   "cell_type": "code",
   "execution_count": 5,
   "metadata": {},
   "outputs": [],
   "source": [
    "import ipyvolume as ipv\n",
    "import numpy as np\n",
    "from matplotlib.pyplot import cm\n",
    "import pydicom #read dicom files\n",
    "import os\n",
    "import pandas as pd"
   ]
  },
  {
   "cell_type": "markdown",
   "metadata": {},
   "source": [
    "MRI scan of BN-175 model"
   ]
  },
  {
   "cell_type": "code",
   "execution_count": 6,
   "metadata": {},
   "outputs": [],
   "source": [
    "much_data = np.load('muchdata-50-50-20.npy', allow_pickle=True)"
   ]
  },
  {
   "cell_type": "code",
   "execution_count": 7,
   "metadata": {},
   "outputs": [],
   "source": [
    "much_data_new=much_data[0][0]"
   ]
  },
  {
   "cell_type": "code",
   "execution_count": 8,
   "metadata": {},
   "outputs": [
    {
     "data": {
      "text/plain": [
       "array([ 49. ,  54.5,  70.5,  76.5,  96. , 136.5, 194. , 231. , 265. ,\n",
       "       261. ,  39.5,  49. ,  62. ,  60. ,  47.5,  42.5,  51.5,  50.5,\n",
       "        40.5,  44. ,  23.5,  27. ,  31. ,  52. ,  70.5,  96.5,  70. ,\n",
       "        99. ,  83. ,  95.5, 100.5,  25. ,   7.5,  14.5,   8.5,  10. ,\n",
       "         8. ,  15. ,  10. ,  12. ,  11.5,  11. ,  10.5,  16.5,   9.5,\n",
       "         8. ,  51.5,  63.5,  68. ,  44.5])"
      ]
     },
     "execution_count": 8,
     "metadata": {},
     "output_type": "execute_result"
    }
   ],
   "source": [
    "much_data[0][0][15][15]"
   ]
  },
  {
   "cell_type": "code",
   "execution_count": 9,
   "metadata": {},
   "outputs": [
    {
     "data": {
      "text/plain": [
       "array([ 49. ,  54.5,  70.5,  76.5,  96. , 136.5, 194. , 231. , 265. ,\n",
       "       261. ,  39.5,  49. ,  62. ,  60. ,  47.5,  42.5,  51.5,  50.5,\n",
       "        40.5,  44. ,  23.5,  27. ,  31. ,  52. ,  70.5,  96.5,  70. ,\n",
       "        99. ,  83. ,  95.5, 100.5,  25. ,   7.5,  14.5,   8.5,  10. ,\n",
       "         8. ,  15. ,  10. ,  12. ,  11.5,  11. ,  10.5,  16.5,   9.5,\n",
       "         8. ,  51.5,  63.5,  68. ,  44.5])"
      ]
     },
     "execution_count": 9,
     "metadata": {},
     "output_type": "execute_result"
    }
   ],
   "source": [
    "much_data_new[15][15]"
   ]
  },
  {
   "cell_type": "code",
   "execution_count": 10,
   "metadata": {},
   "outputs": [],
   "source": [
    "table_mri = cm.hot(np.linspace(0, 1, 255))\n",
    "#table_mri[:50, 3] = 0 # make the lower values transparent\n",
    "table_mri[50:, 3] = np.linspace(0, 0.05, table_mri[50:].shape[0])\n",
    "tf_mri = ipv.TransferFunction(rgba=table_mri)"
   ]
  },
  {
   "cell_type": "code",
   "execution_count": 11,
   "metadata": {
    "scrolled": true
   },
   "outputs": [
    {
     "name": "stderr",
     "output_type": "stream",
     "text": [
      "C:\\Users\\casti\\AppData\\Local\\Continuum\\anaconda3\\lib\\site-packages\\ipyvolume\\serialize.py:92: RuntimeWarning: invalid value encountered in true_divide\n",
      "  gradient = gradient / np.sqrt(gradient[0] ** 2 + gradient[1] ** 2 + gradient[2] ** 2)\n"
     ]
    },
    {
     "data": {
      "application/vnd.jupyter.widget-view+json": {
       "model_id": "424f7ba0087d4f188e8298f14da2cb3b",
       "version_major": 2,
       "version_minor": 0
      },
      "text/plain": [
       "VBox(children=(Figure(camera=PerspectiveCamera(fov=45.0, position=(0.0, 0.0, 2.0), quaternion=(0.0, 0.0, 0.0, …"
      ]
     },
     "metadata": {},
     "output_type": "display_data"
    }
   ],
   "source": [
    "ct_mri = ipv.quickvolshow(much_data_new, \n",
    "                          tf=tf_mri, lighting=True, \n",
    "                          data_min=-1000, data_max=1000, level=[0.1, 0.5, 0.9],\n",
    "                          opacity=[10, 10, 10],\n",
    "                          level_width=1000.0)\n",
    "ct_mri"
   ]
  },
  {
   "cell_type": "code",
   "execution_count": 12,
   "metadata": {},
   "outputs": [
    {
     "data": {
      "application/vnd.jupyter.widget-view+json": {
       "model_id": "468b9b70832043838fc1d8e35b7ade9b",
       "version_major": 2,
       "version_minor": 0
      },
      "text/plain": [
       "VBox(children=(VBox(children=(HBox(children=(Label(value='levels:'), FloatSlider(value=0.1, max=1.0, step=0.00…"
      ]
     },
     "metadata": {},
     "output_type": "display_data"
    }
   ],
   "source": [
    "fig = ipv.figure()\n",
    "vol = ipv.volshow(much_data_new)\n",
    "ipv.show()"
   ]
  },
  {
   "cell_type": "code",
   "execution_count": 13,
   "metadata": {},
   "outputs": [],
   "source": [
    "much_data_new2=0-much_data_new"
   ]
  },
  {
   "cell_type": "code",
   "execution_count": 14,
   "metadata": {},
   "outputs": [
    {
     "data": {
      "application/vnd.jupyter.widget-view+json": {
       "model_id": "2936b78074ac435aa1f2717e27abbc2d",
       "version_major": 2,
       "version_minor": 0
      },
      "text/plain": [
       "VBox(children=(VBox(children=(HBox(children=(Label(value='levels:'), FloatSlider(value=0.1, max=1.0, step=0.00…"
      ]
     },
     "metadata": {},
     "output_type": "display_data"
    }
   ],
   "source": [
    "fig = ipv.figure()\n",
    "vol = ipv.volshow(much_data_new2)\n",
    "ipv.show()"
   ]
  },
  {
   "cell_type": "code",
   "execution_count": null,
   "metadata": {},
   "outputs": [],
   "source": []
  }
 ],
 "metadata": {
  "kernelspec": {
   "display_name": "Python 3",
   "language": "python",
   "name": "python3"
  },
  "language_info": {
   "codemirror_mode": {
    "name": "ipython",
    "version": 3
   },
   "file_extension": ".py",
   "mimetype": "text/x-python",
   "name": "python",
   "nbconvert_exporter": "python",
   "pygments_lexer": "ipython3",
   "version": "3.7.4"
  }
 },
 "nbformat": 4,
 "nbformat_minor": 2
}
