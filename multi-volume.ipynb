{
 "cells": [
  {
   "cell_type": "code",
   "execution_count": 10,
   "metadata": {},
   "outputs": [],
   "source": [
    "import ipyvolume as ipv\n",
    "import numpy as np\n",
    "from matplotlib.pyplot import cm"
   ]
  },
  {
   "cell_type": "markdown",
   "metadata": {},
   "source": [
    "We show a CT scan and overlay the PET scan"
   ]
  },
  {
   "cell_type": "code",
   "execution_count": 11,
   "metadata": {},
   "outputs": [
    {
     "name": "stdout",
     "output_type": "stream",
     "text": [
      "['pet_data', 'ct_data', 'label_data']\n"
     ]
    }
   ],
   "source": [
    "full_scan = {k: v.swapaxes(0, 1)[::-1] for k,v in np.load('petct.npz').items()}\n",
    "print(list(full_scan.keys()))"
   ]
  },
  {
   "cell_type": "code",
   "execution_count": 12,
   "metadata": {},
   "outputs": [],
   "source": [
    "table_ct = cm.gray_r(np.linspace(0, 1, 255))\n",
    "table_ct[:50, 3] = 0 # make the lower values transparent\n",
    "table_ct[50:, 3] = np.linspace(0, 0.05, table_ct[50:].shape[0])\n",
    "tf_ct = ipv.TransferFunction(rgba=table_ct)"
   ]
  },
  {
   "cell_type": "code",
   "execution_count": 13,
   "metadata": {
    "scrolled": true
   },
   "outputs": [
    {
     "data": {
      "application/vnd.jupyter.widget-view+json": {
       "model_id": "8cb29eb7490f474e8b2d8949ef8200e8",
       "version_major": 2,
       "version_minor": 0
      },
      "text/plain": [
       "VBox(children=(Figure(camera=PerspectiveCamera(fov=45.0, position=(0.0, 0.0, 2.0), quaternion=(0.0, 0.0, 0.0, …"
      ]
     },
     "metadata": {},
     "output_type": "display_data"
    }
   ],
   "source": [
    "ct_vol = ipv.quickvolshow(full_scan['ct_data'], \n",
    "                          tf=tf_ct, lighting=False, \n",
    "                          data_min=-1000, data_max=1000)\n",
    "ct_vol"
   ]
  },
  {
   "cell_type": "markdown",
   "metadata": {},
   "source": [
    "# Zoom\n",
    "Zoom in by clicking the magnifying icon, or keep the alt/option key pressed. After zooming in, the higher resolution verion cutout will be displayed. "
   ]
  },
  {
   "cell_type": "markdown",
   "metadata": {},
   "source": [
    "# Multivolume rendering\n",
    "Since version 0.5, ipyvolume supports multivolume rendering, so we can render two volumetric datasets at the same time."
   ]
  },
  {
   "cell_type": "code",
   "execution_count": 5,
   "metadata": {},
   "outputs": [],
   "source": [
    "table_pet = cm.hot(np.linspace(0, 1, 255))\n",
    "table_pet[:50, 3] = 0 # make the lower values transparent\n",
    "table_pet[50:, 3] = np.linspace(0, 1, table_pet[50:].shape[0])\n",
    "tf_pet = ipv.TransferFunction(rgba=table_pet)"
   ]
  },
  {
   "cell_type": "code",
   "execution_count": 6,
   "metadata": {},
   "outputs": [
    {
     "data": {
      "application/vnd.jupyter.widget-view+json": {
       "model_id": "0a987fdf318d4a3b86529f51f1e123fc",
       "version_major": 2,
       "version_minor": 0
      },
      "text/plain": [
       "Volume(data=array([[[-5.61936050e-19, -2.19770616e-13,  3.50630415e-09, ...,\n",
       "         -9.98426852e-18, -2.0033…"
      ]
     },
     "metadata": {},
     "output_type": "display_data"
    }
   ],
   "source": [
    "pet_vol = ipv.volshow(full_scan['pet_data'], \n",
    "            tf=tf_pet, \n",
    "            data_min=0, \n",
    "            data_max=10)\n",
    "pet_vol"
   ]
  },
  {
   "cell_type": "code",
   "execution_count": 7,
   "metadata": {},
   "outputs": [],
   "source": [
    "pet_vol.rendering_method='MAX_INTENSITY'"
   ]
  },
  {
   "cell_type": "code",
   "execution_count": 8,
   "metadata": {},
   "outputs": [],
   "source": [
    "table_lab = np.array([\n",
    "    [0,0,0,0],\n",
    "    [0,1,0,1]\n",
    "])\n",
    "tf_lab = ipv.TransferFunction(rgba=table_lab)\n",
    "lab_vol = ipv.volshow(full_scan['label_data']>0, \n",
    "            tf=tf_lab, \n",
    "            data_min=0, \n",
    "            data_max=1)"
   ]
  },
  {
   "cell_type": "code",
   "execution_count": 9,
   "metadata": {},
   "outputs": [
    {
     "data": {
      "application/vnd.jupyter.widget-view+json": {
       "model_id": "0a987fdf318d4a3b86529f51f1e123fc",
       "version_major": 2,
       "version_minor": 0
      },
      "text/plain": [
       "Volume(data=array([[[-5.61936050e-19, -2.19770616e-13,  3.50630415e-09, ...,\n",
       "         -9.98426852e-18, -2.0033…"
      ]
     },
     "metadata": {},
     "output_type": "display_data"
    }
   ],
   "source": [
    "pet_vol"
   ]
  },
  {
   "cell_type": "code",
   "execution_count": null,
   "metadata": {},
   "outputs": [],
   "source": []
  }
 ],
 "metadata": {
  "kernelspec": {
   "display_name": "Python 3",
   "language": "python",
   "name": "python3"
  },
  "language_info": {
   "codemirror_mode": {
    "name": "ipython",
    "version": 3
   },
   "file_extension": ".py",
   "mimetype": "text/x-python",
   "name": "python",
   "nbconvert_exporter": "python",
   "pygments_lexer": "ipython3",
   "version": "3.7.4"
  }
 },
 "nbformat": 4,
 "nbformat_minor": 2
}
