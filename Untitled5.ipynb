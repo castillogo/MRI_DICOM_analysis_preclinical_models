{
 "cells": [
  {
   "cell_type": "code",
   "execution_count": 5,
   "metadata": {},
   "outputs": [],
   "source": [
    "%matplotlib inline\n",
    "\n",
    "import numpy as np # linear algebra\n",
    "import pandas as pd # data processing, CSV file I/O (e.g. pd.read_csv)\n",
    "import dicom\n",
    "import os\n",
    "import scipy.ndimage\n",
    "import matplotlib.pyplot as plt\n",
    "\n",
    "from skimage import measure, morphology\n",
    "from mpl_toolkits.mplot3d.art3d import Poly3DCollection\n",
    "\n",
    "# Some constants \n",
    "INPUT_FOLDER = 'C:/Users/casti/Documents/Final_Project/FFE_imagesOversampling/'\n",
    "patients = os.listdir(INPUT_FOLDER)\n",
    "patients.sort()"
   ]
  },
  {
   "cell_type": "code",
   "execution_count": 6,
   "metadata": {},
   "outputs": [],
   "source": [
    "def load_scan(path):\n",
    "    slices = [dicom.read_file(path + '/' + s) for s in os.listdir(path)]\n",
    "    slices.sort(key = lambda x: float(x.ImagePositionPatient[2]))\n",
    "    try:\n",
    "        slice_thickness = np.abs(slices[0].ImagePositionPatient[2] - slices[1].ImagePositionPatient[2])\n",
    "    except:\n",
    "        slice_thickness = np.abs(slices[0].SliceLocation - slices[1].SliceLocation)\n",
    "        \n",
    "    for s in slices:\n",
    "        s.SliceThickness = slice_thickness\n",
    "        \n",
    "    return slices"
   ]
  },
  {
   "cell_type": "code",
   "execution_count": 10,
   "metadata": {},
   "outputs": [
    {
     "name": "stdout",
     "output_type": "stream",
     "text": [
      "Collecting cortex\n",
      "  Downloading https://files.pythonhosted.org/packages/bd/92/f6a2f13788fbdc9344235e4b00530dcb5912fb3f295e6eab17ce1993aa07/cortex-0.11-py3-none-any.whl (73kB)\n",
      "Collecting visdom (from cortex)\n",
      "  Downloading https://files.pythonhosted.org/packages/c9/75/e078f5a2e1df7e0d3044749089fc2823e62d029cc027ed8ae5d71fafcbdc/visdom-0.1.8.9.tar.gz (676kB)\n",
      "Requirement already satisfied: pyyaml in c:\\users\\casti\\appdata\\local\\continuum\\anaconda3\\lib\\site-packages (from cortex) (5.1.2)\n",
      "Collecting sklearn (from cortex)\n",
      "  Using cached https://files.pythonhosted.org/packages/1e/7a/dbb3be0ce9bd5c8b7e3d87328e79063f8b263b2b1bfa4774cb1147bfcd3f/sklearn-0.0.tar.gz\n",
      "Requirement already satisfied: matplotlib in c:\\users\\casti\\appdata\\local\\continuum\\anaconda3\\lib\\site-packages (from cortex) (3.2.1)\n",
      "Requirement already satisfied: progressbar2 in c:\\users\\casti\\appdata\\local\\continuum\\anaconda3\\lib\\site-packages (from cortex) (3.50.1)\n",
      "Requirement already satisfied: imageio in c:\\users\\casti\\appdata\\local\\continuum\\anaconda3\\lib\\site-packages (from cortex) (2.6.0)\n",
      "Collecting torchvision (from cortex)\n",
      "  Downloading https://files.pythonhosted.org/packages/7d/3e/2b5ddf744226159dc90a52f0d044c0de7c5ca4f42d12a350a674ebb6fb2a/torchvision-0.5.0-cp37-cp37m-win_amd64.whl (1.2MB)\n",
      "Requirement already satisfied: scipy in c:\\users\\casti\\appdata\\local\\continuum\\anaconda3\\lib\\site-packages (from cortex) (1.4.1)\n",
      "Requirement already satisfied: numpy>=1.8 in c:\\users\\casti\\appdata\\local\\continuum\\anaconda3\\lib\\site-packages (from visdom->cortex) (1.16.5)\n",
      "Requirement already satisfied: requests in c:\\users\\casti\\appdata\\local\\continuum\\anaconda3\\lib\\site-packages (from visdom->cortex) (2.22.0)\n",
      "Requirement already satisfied: tornado in c:\\users\\casti\\appdata\\local\\continuum\\anaconda3\\lib\\site-packages (from visdom->cortex) (6.0.3)\n",
      "Requirement already satisfied: pyzmq in c:\\users\\casti\\appdata\\local\\continuum\\anaconda3\\lib\\site-packages (from visdom->cortex) (18.1.0)\n",
      "Requirement already satisfied: six in c:\\users\\casti\\appdata\\local\\continuum\\anaconda3\\lib\\site-packages (from visdom->cortex) (1.12.0)\n",
      "Collecting jsonpatch (from visdom->cortex)\n",
      "  Downloading https://files.pythonhosted.org/packages/82/53/73ca86f2a680c705dcd1708be4887c559dfe9ed250486dd3ccd8821b8ccb/jsonpatch-1.25-py2.py3-none-any.whl\n",
      "Collecting torchfile (from visdom->cortex)\n",
      "  Downloading https://files.pythonhosted.org/packages/91/af/5b305f86f2d218091af657ddb53f984ecbd9518ca9fe8ef4103a007252c9/torchfile-0.1.0.tar.gz\n",
      "Collecting websocket-client (from visdom->cortex)\n",
      "  Downloading https://files.pythonhosted.org/packages/4c/5f/f61b420143ed1c8dc69f9eaec5ff1ac36109d52c80de49d66e0c36c3dfdf/websocket_client-0.57.0-py2.py3-none-any.whl (200kB)\n",
      "Requirement already satisfied: pillow in c:\\users\\casti\\appdata\\local\\continuum\\anaconda3\\lib\\site-packages (from visdom->cortex) (6.2.0)\n",
      "Requirement already satisfied: scikit-learn in c:\\users\\casti\\appdata\\local\\continuum\\anaconda3\\lib\\site-packages (from sklearn->cortex) (0.22.2.post1)\n",
      "Requirement already satisfied: kiwisolver>=1.0.1 in c:\\users\\casti\\appdata\\local\\continuum\\anaconda3\\lib\\site-packages (from matplotlib->cortex) (1.1.0)\n",
      "Requirement already satisfied: python-dateutil>=2.1 in c:\\users\\casti\\appdata\\local\\continuum\\anaconda3\\lib\\site-packages (from matplotlib->cortex) (2.8.0)\n",
      "Requirement already satisfied: cycler>=0.10 in c:\\users\\casti\\appdata\\local\\continuum\\anaconda3\\lib\\site-packages (from matplotlib->cortex) (0.10.0)\n",
      "Requirement already satisfied: pyparsing!=2.0.4,!=2.1.2,!=2.1.6,>=2.0.1 in c:\\users\\casti\\appdata\\local\\continuum\\anaconda3\\lib\\site-packages (from matplotlib->cortex) (2.4.2)\n",
      "Requirement already satisfied: python-utils>=2.3.0 in c:\\users\\casti\\appdata\\local\\continuum\\anaconda3\\lib\\site-packages (from progressbar2->cortex) (2.4.0)\n",
      "Collecting torch==1.4.0 (from torchvision->cortex)\n",
      "Note: you may need to restart the kernel to use updated packages.\n"
     ]
    },
    {
     "name": "stderr",
     "output_type": "stream",
     "text": [
      "  ERROR: Could not find a version that satisfies the requirement torch==1.4.0 (from torchvision->cortex) (from versions: 0.1.2, 0.1.2.post1, 0.1.2.post2)\n",
      "ERROR: No matching distribution found for torch==1.4.0 (from torchvision->cortex)\n"
     ]
    }
   ],
   "source": [
    "pip install cortex"
   ]
  },
  {
   "cell_type": "code",
   "execution_count": 4,
   "metadata": {},
   "outputs": [],
   "source": [
    "import ipyvolume"
   ]
  },
  {
   "cell_type": "code",
   "execution_count": 5,
   "metadata": {},
   "outputs": [
    {
     "name": "stderr",
     "output_type": "stream",
     "text": [
      "C:\\Users\\casti\\AppData\\Local\\Continuum\\anaconda3\\lib\\site-packages\\ipyvolume\\serialize.py:81: RuntimeWarning: invalid value encountered in true_divide\n",
      "  gradient = gradient / np.sqrt(gradient[0]**2 + gradient[1]**2 + gradient[2]**2)\n"
     ]
    },
    {
     "data": {
      "application/vnd.jupyter.widget-view+json": {
       "model_id": "557841eae3a54ec7b4c8664355348ee7",
       "version_major": 2,
       "version_minor": 0
      },
      "text/plain": [
       "VBox(children=(VBox(children=(HBox(children=(Label(value='levels:'), FloatSlider(value=0.1, max=1.0, step=0.00…"
      ]
     },
     "metadata": {},
     "output_type": "display_data"
    },
    {
     "data": {
      "application/vnd.jupyter.widget-view+json": {
       "model_id": "7cee41c581fa4759b56437380d8ff164",
       "version_major": 2,
       "version_minor": 0
      },
      "text/plain": [
       "Volume(data=array([[[0., 0., 0., ..., 0., 0., 0.],\n",
       "        [0., 0., 0., ..., 0., 0., 0.],\n",
       "        [0., 0., 0.,…"
      ]
     },
     "metadata": {},
     "output_type": "display_data"
    }
   ],
   "source": [
    "ipyvolume.examples.ball(rmax=3, rmin=2.5, shape=64, lighting=True)"
   ]
  },
  {
   "cell_type": "code",
   "execution_count": 6,
   "metadata": {},
   "outputs": [
    {
     "ename": "AttributeError",
     "evalue": "module 'ipyvolume' has no attribute 'example_ylm'",
     "output_type": "error",
     "traceback": [
      "\u001b[1;31m---------------------------------------------------------------------------\u001b[0m",
      "\u001b[1;31mAttributeError\u001b[0m                            Traceback (most recent call last)",
      "\u001b[1;32m<ipython-input-6-5d6bc70e0767>\u001b[0m in \u001b[0;36m<module>\u001b[1;34m\u001b[0m\n\u001b[1;32m----> 1\u001b[1;33m \u001b[0mipyvolume\u001b[0m\u001b[1;33m.\u001b[0m\u001b[0mexample_ylm\u001b[0m\u001b[1;33m(\u001b[0m\u001b[1;33m)\u001b[0m\u001b[1;33m\u001b[0m\u001b[1;33m\u001b[0m\u001b[0m\n\u001b[0m",
      "\u001b[1;31mAttributeError\u001b[0m: module 'ipyvolume' has no attribute 'example_ylm'"
     ]
    }
   ],
   "source": [
    "ipyvolume.example_ylm()"
   ]
  },
  {
   "cell_type": "code",
   "execution_count": 7,
   "metadata": {},
   "outputs": [
    {
     "name": "stdout",
     "output_type": "stream",
     "text": [
      "Downloading https://github.com/maartenbreddels/ipyvolume/raw/master/datasets/aquarius-A2.npy.bz2 to C:\\Users\\casti/.ipyvolume/datasets\\aquarius-A2.npy.bz2\n",
      "Download failed, exit code was: 1 will try with curl\n",
      "Download failed again, exit code was: 1 using urlretrieve\n"
     ]
    },
    {
     "data": {
      "application/vnd.jupyter.widget-view+json": {
       "model_id": "fe4c0c424dbc4296b565f0773ead5f1b",
       "version_major": 2,
       "version_minor": 0
      },
      "text/plain": [
       "VBox(children=(VBox(children=(HBox(children=(Label(value='levels:'), FloatSlider(value=0.1, max=1.0, step=0.00…"
      ]
     },
     "metadata": {},
     "output_type": "display_data"
    }
   ],
   "source": [
    "ds = ipyvolume.datasets.aquariusA2.fetch()\n",
    "ipyvolume.quickvolshow(ds.data, lighting=True)"
   ]
  },
  {
   "cell_type": "code",
   "execution_count": null,
   "metadata": {},
   "outputs": [],
   "source": []
  }
 ],
 "metadata": {
  "kernelspec": {
   "display_name": "Python 3",
   "language": "python",
   "name": "python3"
  },
  "language_info": {
   "codemirror_mode": {
    "name": "ipython",
    "version": 3
   },
   "file_extension": ".py",
   "mimetype": "text/x-python",
   "name": "python",
   "nbconvert_exporter": "python",
   "pygments_lexer": "ipython3",
   "version": "3.7.4"
  }
 },
 "nbformat": 4,
 "nbformat_minor": 2
}
